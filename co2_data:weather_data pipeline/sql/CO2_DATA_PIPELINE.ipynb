{
 "metadata": {
  "kernelspec": {
   "display_name": "Streamlit Notebook",
   "name": "streamlit"
  },
  "lastEditStatus": {
   "notebookId": "2umpvdlrp2np7ts7lzuh",
   "authorId": "6761595136547",
   "authorName": "HISHITA",
   "authorEmail": "thakkar.his@northeastern.edu",
   "sessionId": "8c5a80ce-b80d-4fb1-a0be-9b1ec779c27d",
   "lastEditTime": 1740733736619
  }
 },
 "nbformat_minor": 5,
 "nbformat": 4,
 "cells": [
  {
   "cell_type": "code",
   "id": "3775908f-ca36-4846-8f38-5adca39217f2",
   "metadata": {
    "language": "sql",
    "name": "cell1",
    "collapsed": false
   },
   "source": "CREATE STORAGE INTEGRATION CO2_S3_INTEGRATION\nTYPE = EXTERNAL_STAGE\nSTORAGE_PROVIDER = 'S3'\nSTORAGE_AWS_ROLE_ARN = 'arn:aws:iam::183295451617:role/MySnowflakeRole'\nENABLED = TRUE\nSTORAGE_ALLOWED_LOCATIONS = ('s3://big.data.ass3/');\n",
   "execution_count": null,
   "outputs": []
  },
  {
   "cell_type": "code",
   "id": "8d50cbf4-0c8d-4950-86cb-114990437ac9",
   "metadata": {
    "language": "sql",
    "name": "cell2",
    "collapsed": false
   },
   "source": "SHOW INTEGRATIONS;\nDESC INTEGRATION CO2_S3_INTEGRATION;\n",
   "execution_count": null,
   "outputs": []
  },
  {
   "cell_type": "code",
   "id": "c695373e-ac74-4b62-a1f1-08206cbd5c81",
   "metadata": {
    "language": "sql",
    "name": "cell3",
    "collapsed": false
   },
   "source": "CREATE OR REPLACE STAGE CO2_STAGE\nSTORAGE_INTEGRATION = CO2_S3_INTEGRATION\nURL = 's3://big.data.ass3/';\n",
   "execution_count": null,
   "outputs": []
  },
  {
   "cell_type": "code",
   "id": "805adc8f-8fa8-4c19-9005-89af1b7d2681",
   "metadata": {
    "language": "sql",
    "name": "cell4",
    "collapsed": false
   },
   "outputs": [],
   "source": "DESC STAGE CO2_STAGE;\n",
   "execution_count": null
  },
  {
   "cell_type": "code",
   "id": "cbf3edb7-b0f9-468a-91e7-806c5aca2b1c",
   "metadata": {
    "language": "sql",
    "name": "cell5",
    "collapsed": false
   },
   "outputs": [],
   "source": "DESC INTEGRATION CO2_S3_INTEGRATION;\n\n",
   "execution_count": null
  },
  {
   "cell_type": "code",
   "id": "16b63e7e-31e6-4ba5-9c4d-0bdd79770fa1",
   "metadata": {
    "language": "sql",
    "name": "cell6",
    "collapsed": false
   },
   "outputs": [],
   "source": "LIST @CO2_STAGE;\n",
   "execution_count": null
  },
  {
   "cell_type": "code",
   "id": "c395b1ad-86f6-46f9-8efb-8e098f726e9c",
   "metadata": {
    "language": "sql",
    "name": "cell7"
   },
   "outputs": [],
   "source": "//temp\nCOPY INTO CO2_DATA\nFROM @CO2_STAGE/raw_data/co2_data_v2.csv\nFILE_FORMAT = (FORMAT_NAME = 'CO2_CSV_FORMAT')\nFORCE = TRUE;\n",
   "execution_count": null
  },
  {
   "cell_type": "code",
   "id": "a29deb48-2cb5-49c0-b7a6-af3ab314b69d",
   "metadata": {
    "language": "sql",
    "name": "cell8",
    "collapsed": false
   },
   "outputs": [],
   "source": "CREATE OR REPLACE FILE FORMAT CO2_CSV_FORMAT\nTYPE = CSV\nFIELD_DELIMITER = ','\nSKIP_HEADER = 1\nNULL_IF = ('NULL', 'null', '')\nEMPTY_FIELD_AS_NULL = TRUE;\n",
   "execution_count": null
  },
  {
   "cell_type": "code",
   "id": "805638fc-ae99-4e1c-b755-a3537b1b9add",
   "metadata": {
    "language": "sql",
    "name": "cell9",
    "collapsed": false
   },
   "outputs": [],
   "source": "DESC FILE FORMAT CO2_CSV_FORMAT;\n",
   "execution_count": null
  },
  {
   "cell_type": "code",
   "id": "98850d15-3525-40a0-9c3f-dff1fc86a77e",
   "metadata": {
    "language": "sql",
    "name": "cell10",
    "collapsed": false
   },
   "outputs": [],
   "source": "CREATE OR REPLACE TABLE RAW_DOW30_STAGING (\n    YEAR INT,\n    MONTH INT,\n    DAY INT,\n    DECIMAL_DATE FLOAT,\n    CO2_EMISSION FLOAT\n);\n",
   "execution_count": null
  },
  {
   "cell_type": "code",
   "id": "7da75c7a-2613-4651-8eb2-f1bcc221ed43",
   "metadata": {
    "language": "sql",
    "name": "cell11",
    "collapsed": false
   },
   "outputs": [],
   "source": "DESC TABLE RAW_DOW30_STAGING;\n",
   "execution_count": null
  },
  {
   "cell_type": "code",
   "id": "54faef09-8c1f-4b71-9b3a-2e451261e838",
   "metadata": {
    "language": "sql",
    "name": "cell12"
   },
   "outputs": [],
   "source": "COPY INTO RAW_DOW30_STAGING\nFROM @CO2_STAGE/raw_data/co2_data_v2.csv\nFILE_FORMAT = (FORMAT_NAME = 'CO2_CSV_FORMAT')\nFORCE = TRUE;\n",
   "execution_count": null
  },
  {
   "cell_type": "code",
   "id": "dd24ea37-6af5-41c9-9dc7-3a2f77993191",
   "metadata": {
    "language": "sql",
    "name": "cell13",
    "collapsed": false
   },
   "outputs": [],
   "source": "SELECT * FROM RAW_DOW30_STAGING LIMIT 10;\n",
   "execution_count": null
  },
  {
   "cell_type": "code",
   "id": "2d200035-bc23-434e-84ba-3ce7625930ce",
   "metadata": {
    "language": "sql",
    "name": "cell14",
    "collapsed": false
   },
   "outputs": [],
   "source": "CREATE OR REPLACE STREAM CO2_STREAM \nON TABLE RAW_DOW30_STAGING;\n",
   "execution_count": null
  },
  {
   "cell_type": "code",
   "id": "5f273918-804f-4192-99f3-9959508167c3",
   "metadata": {
    "language": "sql",
    "name": "cell15",
    "collapsed": false
   },
   "outputs": [],
   "source": "SELECT * FROM CO2_STREAM;\n",
   "execution_count": null
  },
  {
   "cell_type": "code",
   "id": "830e2a1b-ab75-485e-9b0c-535801dc896b",
   "metadata": {
    "language": "sql",
    "name": "cell16",
    "collapsed": false
   },
   "outputs": [],
   "source": "CREATE OR REPLACE TABLE DOW30_HARMONIZED AS\nSELECT \n    YEAR,\n    MONTH,\n    DAY,\n    DECIMAL_DATE,\n    CO2_EMISSION\nFROM RAW_DOW30_STAGING;\n",
   "execution_count": null
  },
  {
   "cell_type": "code",
   "id": "2bb3a507-56ec-495f-800c-f5675ac98b70",
   "metadata": {
    "language": "sql",
    "name": "cell17",
    "collapsed": false
   },
   "outputs": [],
   "source": "SELECT * FROM DOW30_HARMONIZED LIMIT 10;\n",
   "execution_count": null
  },
  {
   "cell_type": "code",
   "id": "44906fa2-3fda-44ce-a9be-8b9e512946aa",
   "metadata": {
    "language": "sql",
    "name": "cell18",
    "collapsed": false
   },
   "outputs": [],
   "source": "CREATE OR REPLACE FUNCTION NORMALIZE_CO2_EMISSION(CO2_VALUE FLOAT, REFERENCE_VALUE FLOAT)\nRETURNS FLOAT\nAS \n$$\n    CO2_VALUE / REFERENCE_VALUE\n$$;\n",
   "execution_count": null
  },
  {
   "cell_type": "code",
   "id": "21e62d0c-4149-46f4-a619-ae14bf169fb5",
   "metadata": {
    "language": "sql",
    "name": "cell19",
    "collapsed": false
   },
   "outputs": [],
   "source": "SELECT NORMALIZE_CO2_EMISSION(420.15, 410.0) AS NORMALIZED_CO2;\n",
   "execution_count": null
  },
  {
   "cell_type": "code",
   "id": "fa9e964a-c5ba-44b1-8649-2f58d9af9185",
   "metadata": {
    "language": "sql",
    "name": "cell20",
    "collapsed": false
   },
   "outputs": [],
   "source": "CREATE OR REPLACE FUNCTION NORMALIZE_CO2_EMISSION(CO2_VALUE FLOAT, REFERENCE_VALUE FLOAT)\nRETURNS FLOAT\nAS \n$$\n    CO2_VALUE / REFERENCE_VALUE\n$$;\n",
   "execution_count": null
  },
  {
   "cell_type": "code",
   "id": "1ab42af4-655b-45cd-a240-49fcc2e0eae6",
   "metadata": {
    "language": "sql",
    "name": "cell21",
    "collapsed": false
   },
   "outputs": [],
   "source": "SELECT * FROM RAW_DOW30_STAGING LIMIT 10;\n",
   "execution_count": null
  },
  {
   "cell_type": "code",
   "id": "27aacb5f-3468-49ee-acd0-f9e2687da8f3",
   "metadata": {
    "language": "sql",
    "name": "cell23",
    "collapsed": false
   },
   "outputs": [],
   "source": "DESC TABLE DOW30_HARMONIZED;\n",
   "execution_count": null
  },
  {
   "cell_type": "code",
   "id": "83687f6a-80ab-422c-9adb-e9e9c5f2ae95",
   "metadata": {
    "language": "sql",
    "name": "cell24",
    "collapsed": false
   },
   "outputs": [],
   "source": "ALTER TABLE DOW30_HARMONIZED ADD COLUMN NORMALIZED_CO2 FLOAT;\n",
   "execution_count": null
  },
  {
   "cell_type": "code",
   "id": "25ba1f37-7d60-41be-8d13-7992e70dc148",
   "metadata": {
    "language": "sql",
    "name": "cell25",
    "collapsed": false
   },
   "outputs": [],
   "source": "INSERT INTO DOW30_HARMONIZED (YEAR, MONTH, DAY, CO2_EMISSION, NORMALIZED_CO2)\nSELECT \n    YEAR, \n    MONTH, \n    DAY, \n    CO2_EMISSION,\n    NORMALIZE_CO2_EMISSION(CO2_EMISSION, 400.0) AS NORMALIZED_CO2  -- Reference value\nFROM RAW_DOW30_STAGING;\n",
   "execution_count": null
  },
  {
   "cell_type": "code",
   "id": "e8efc362-4247-4f36-8a90-fe060792c558",
   "metadata": {
    "language": "sql",
    "name": "cell22",
    "collapsed": false
   },
   "outputs": [],
   "source": "SELECT * FROM DOW30_HARMONIZED LIMIT 10;\n",
   "execution_count": null
  },
  {
   "cell_type": "code",
   "id": "a38bcab7-7bbd-407b-ad3c-117fb61a908c",
   "metadata": {
    "language": "sql",
    "name": "cell26",
    "collapsed": false
   },
   "outputs": [],
   "source": "SHOW USER FUNCTIONS;\n",
   "execution_count": null
  },
  {
   "cell_type": "code",
   "id": "27729796-5c9a-4bab-a7af-f40386600c44",
   "metadata": {
    "language": "sql",
    "name": "cell27",
    "collapsed": false
   },
   "outputs": [],
   "source": "SELECT NORMALIZE_CO2_EMISSION(333.46, 400);\n",
   "execution_count": null
  },
  {
   "cell_type": "code",
   "id": "01512e57-c1f3-4923-8083-e870245bdd76",
   "metadata": {
    "language": "sql",
    "name": "cell28",
    "collapsed": false
   },
   "outputs": [],
   "source": "UPDATE DOW30_HARMONIZED\nSET NORMALIZED_CO2 = NORMALIZE_CO2_EMISSION(CO2_EMISSION, 400.0);\n",
   "execution_count": null
  },
  {
   "cell_type": "code",
   "id": "5bd97456-657e-4915-a68b-0e16b8769fd9",
   "metadata": {
    "language": "sql",
    "name": "cell29",
    "collapsed": false
   },
   "outputs": [],
   "source": "SELECT * FROM DOW30_HARMONIZED LIMIT 10;\n",
   "execution_count": null
  },
  {
   "cell_type": "code",
   "id": "29b75cb6-b035-41a5-a5c1-1e081bad893b",
   "metadata": {
    "language": "sql",
    "name": "cell30",
    "collapsed": false
   },
   "outputs": [],
   "source": "CREATE OR REPLACE TABLE ANALYTICS_DOW30 AS\nSELECT \n    YEAR, \n    MONTH, \n    AVG(CO2_EMISSION) AS AVG_CO2, \n    MAX(CO2_EMISSION) AS MAX_CO2, \n    MIN(CO2_EMISSION) AS MIN_CO2\nFROM DOW30_HARMONIZED\nGROUP BY YEAR, MONTH;\n",
   "execution_count": null
  },
  {
   "cell_type": "code",
   "id": "16ebeef8-6655-425c-b3ed-d1a91b4b111c",
   "metadata": {
    "language": "sql",
    "name": "cell31",
    "collapsed": false
   },
   "outputs": [],
   "source": "SELECT * FROM ANALYTICS_DOW30 LIMIT 10;\n",
   "execution_count": null
  },
  {
   "cell_type": "code",
   "id": "f00d6f71-7700-4b2b-a89b-0facc54fead6",
   "metadata": {
    "language": "sql",
    "name": "cell32"
   },
   "outputs": [],
   "source": "CREATE OR REPLACE PROCEDURE UPDATE_DOW30_SP()\nRETURNS STRING\nLANGUAGE SQL\nAS \n$$\nBEGIN\n    MERGE INTO DOW30_HARMONIZED AS TARGET\n    USING (SELECT * FROM CO2_STREAM) AS SOURCE\n    ON TARGET.YEAR = SOURCE.YEAR\n    WHEN MATCHED THEN \n        UPDATE SET TARGET.CO2_EMISSION = SOURCE.CO2_EMISSION\n    WHEN NOT MATCHED THEN \n        INSERT (YEAR, MONTH, DAY, DECIMAL_DATE, CO2_EMISSION) \n        VALUES (SOURCE.YEAR, SOURCE.MONTH, SOURCE.DAY, SOURCE.DECIMAL_DATE, SOURCE.CO2_EMISSION);\n    \n    RETURN 'Update Successful!';\nEND;\n$$;\n",
   "execution_count": null
  },
  {
   "cell_type": "code",
   "id": "461d668c-b807-4d34-83f1-35cb94d23853",
   "metadata": {
    "language": "sql",
    "name": "cell33",
    "collapsed": false
   },
   "outputs": [],
   "source": "//stored procedure ...edit here\nCREATE OR REPLACE PROCEDURE UPDATE_DOW30_SP()\nRETURNS STRING\nLANGUAGE SQL\nAS \n$$\nBEGIN\n    MERGE INTO DOW30_HARMONIZED AS TARGET\n    USING (SELECT * FROM CO2_STREAM) AS SOURCE\n    ON TARGET.YEAR = SOURCE.YEAR\n    WHEN MATCHED THEN \n        UPDATE SET TARGET.CO2_EMISSION = SOURCE.CO2_EMISSION\n    WHEN NOT MATCHED THEN \n        INSERT (YEAR, MONTH, DAY, DECIMAL_DATE, CO2_EMISSION) \n        VALUES (SOURCE.YEAR, SOURCE.MONTH, SOURCE.DAY, SOURCE.DECIMAL_DATE, SOURCE.CO2_EMISSION);\n    \n    RETURN 'Update Successful!';\nEND;\n$$;\n",
   "execution_count": null
  },
  {
   "cell_type": "code",
   "id": "6de1dcda-5411-4b7a-bb03-b9ff38765e4f",
   "metadata": {
    "language": "sql",
    "name": "cell34",
    "collapsed": false
   },
   "outputs": [],
   "source": "CALL UPDATE_DOW30_SP();\n",
   "execution_count": null
  },
  {
   "cell_type": "code",
   "id": "26547809-2745-4570-9e9d-b2ede6886f6d",
   "metadata": {
    "language": "sql",
    "name": "cell35",
    "collapsed": false
   },
   "outputs": [],
   "source": "CREATE OR REPLACE TASK UPDATE_DOW30_METRICS_TASK\nSCHEDULE = 'USING CRON 0 12 * * * UTC'\nAS \nCALL UPDATE_DOW30_SP();\n",
   "execution_count": null
  },
  {
   "cell_type": "code",
   "id": "8a101dfa-8279-4c4d-8354-c83b89f20719",
   "metadata": {
    "language": "sql",
    "name": "cell36",
    "collapsed": false
   },
   "outputs": [],
   "source": "ALTER TASK UPDATE_DOW30_METRICS_TASK RESUME;\n",
   "execution_count": null
  },
  {
   "cell_type": "code",
   "id": "fd073d30-06da-49b4-9793-e686d415c63c",
   "metadata": {
    "language": "sql",
    "name": "cell37",
    "collapsed": false
   },
   "outputs": [],
   "source": "SELECT COUNT(*) FROM DOW30_HARMONIZED;\n",
   "execution_count": null
  },
  {
   "cell_type": "code",
   "id": "2b232edf-4e66-40fa-ad0c-718c6167ec2b",
   "metadata": {
    "language": "sql",
    "name": "cell38"
   },
   "outputs": [],
   "source": "",
   "execution_count": null
  }
 ]
}