{
 "cells": [
  {
   "cell_type": "code",
   "execution_count": null,
   "id": "3775908f-ca36-4846-8f38-5adca39217f2",
   "metadata": {
    "collapsed": false,
    "language": "sql",
    "name": "cell1"
   },
   "outputs": [],
   "source": [
    "CREATE STORAGE INTEGRATION CO2_S3_INTEGRATION\n",
    "TYPE = EXTERNAL_STAGE\n",
    "STORAGE_PROVIDER = 'S3'\n",
    "STORAGE_AWS_ROLE_ARN = 'arn:aws:iam::183295451617:role/MySnowflakeRole'\n",
    "ENABLED = TRUE\n",
    "STORAGE_ALLOWED_LOCATIONS = ('s3://big.data.ass3/');\n"
   ]
  },
  {
   "cell_type": "code",
   "execution_count": null,
   "id": "8d50cbf4-0c8d-4950-86cb-114990437ac9",
   "metadata": {
    "collapsed": false,
    "language": "sql",
    "name": "cell2"
   },
   "outputs": [],
   "source": [
    "SHOW INTEGRATIONS;\n",
    "DESC INTEGRATION CO2_S3_INTEGRATION;\n"
   ]
  },
  {
   "cell_type": "code",
   "execution_count": null,
   "id": "c695373e-ac74-4b62-a1f1-08206cbd5c81",
   "metadata": {
    "collapsed": false,
    "language": "sql",
    "name": "cell3"
   },
   "outputs": [],
   "source": [
    "CREATE OR REPLACE STAGE CO2_STAGE\n",
    "STORAGE_INTEGRATION = CO2_S3_INTEGRATION\n",
    "URL = 's3://big.data.ass3/';\n"
   ]
  },
  {
   "cell_type": "code",
   "execution_count": null,
   "id": "805adc8f-8fa8-4c19-9005-89af1b7d2681",
   "metadata": {
    "collapsed": false,
    "language": "sql",
    "name": "cell4"
   },
   "outputs": [],
   "source": [
    "DESC STAGE CO2_STAGE;\n"
   ]
  },
  {
   "cell_type": "code",
   "execution_count": null,
   "id": "cbf3edb7-b0f9-468a-91e7-806c5aca2b1c",
   "metadata": {
    "collapsed": false,
    "language": "sql",
    "name": "cell5"
   },
   "outputs": [],
   "source": [
    "DESC INTEGRATION CO2_S3_INTEGRATION;\n",
    "\n"
   ]
  },
  {
   "cell_type": "code",
   "execution_count": null,
   "id": "16b63e7e-31e6-4ba5-9c4d-0bdd79770fa1",
   "metadata": {
    "collapsed": false,
    "language": "sql",
    "name": "cell6"
   },
   "outputs": [],
   "source": [
    "LIST @CO2_STAGE;\n"
   ]
  },
  {
   "cell_type": "code",
   "execution_count": null,
   "id": "c395b1ad-86f6-46f9-8efb-8e098f726e9c",
   "metadata": {
    "language": "sql",
    "name": "cell7"
   },
   "outputs": [],
   "source": [
    "//temp\n",
    "COPY INTO CO2_DATA\n",
    "FROM @CO2_STAGE/raw_data/co2_data_v2.csv\n",
    "FILE_FORMAT = (FORMAT_NAME = 'CO2_CSV_FORMAT')\n",
    "FORCE = TRUE;\n"
   ]
  },
  {
   "cell_type": "code",
   "execution_count": null,
   "id": "a29deb48-2cb5-49c0-b7a6-af3ab314b69d",
   "metadata": {
    "collapsed": false,
    "language": "sql",
    "name": "cell8"
   },
   "outputs": [],
   "source": [
    "CREATE OR REPLACE FILE FORMAT CO2_CSV_FORMAT\n",
    "TYPE = CSV\n",
    "FIELD_DELIMITER = ','\n",
    "SKIP_HEADER = 1\n",
    "NULL_IF = ('NULL', 'null', '')\n",
    "EMPTY_FIELD_AS_NULL = TRUE;\n"
   ]
  },
  {
   "cell_type": "code",
   "execution_count": null,
   "id": "805638fc-ae99-4e1c-b755-a3537b1b9add",
   "metadata": {
    "collapsed": false,
    "language": "sql",
    "name": "cell9"
   },
   "outputs": [],
   "source": [
    "DESC FILE FORMAT CO2_CSV_FORMAT;\n"
   ]
  },
  {
   "cell_type": "code",
   "execution_count": null,
   "id": "98850d15-3525-40a0-9c3f-dff1fc86a77e",
   "metadata": {
    "collapsed": false,
    "language": "sql",
    "name": "cell10"
   },
   "outputs": [],
   "source": [
    "CREATE OR REPLACE TABLE RAW_DOW30_STAGING (\n",
    "    YEAR INT,\n",
    "    MONTH INT,\n",
    "    DAY INT,\n",
    "    DECIMAL_DATE FLOAT,\n",
    "    CO2_EMISSION FLOAT\n",
    ");\n"
   ]
  },
  {
   "cell_type": "code",
   "execution_count": null,
   "id": "7da75c7a-2613-4651-8eb2-f1bcc221ed43",
   "metadata": {
    "collapsed": false,
    "language": "sql",
    "name": "cell11"
   },
   "outputs": [],
   "source": [
    "DESC TABLE RAW_DOW30_STAGING;\n"
   ]
  },
  {
   "cell_type": "code",
   "execution_count": null,
   "id": "54faef09-8c1f-4b71-9b3a-2e451261e838",
   "metadata": {
    "language": "sql",
    "name": "cell12"
   },
   "outputs": [],
   "source": [
    "COPY INTO RAW_DOW30_STAGING\n",
    "FROM @CO2_STAGE/raw_data/co2_data_v2.csv\n",
    "FILE_FORMAT = (FORMAT_NAME = 'CO2_CSV_FORMAT')\n",
    "FORCE = TRUE;\n"
   ]
  },
  {
   "cell_type": "code",
   "execution_count": null,
   "id": "dd24ea37-6af5-41c9-9dc7-3a2f77993191",
   "metadata": {
    "collapsed": false,
    "language": "sql",
    "name": "cell13"
   },
   "outputs": [],
   "source": [
    "SELECT * FROM RAW_DOW30_STAGING LIMIT 10;\n"
   ]
  },
  {
   "cell_type": "code",
   "execution_count": null,
   "id": "2d200035-bc23-434e-84ba-3ce7625930ce",
   "metadata": {
    "collapsed": false,
    "language": "sql",
    "name": "cell14"
   },
   "outputs": [],
   "source": [
    "CREATE OR REPLACE STREAM CO2_STREAM \n",
    "ON TABLE RAW_DOW30_STAGING;\n"
   ]
  },
  {
   "cell_type": "code",
   "execution_count": null,
   "id": "5f273918-804f-4192-99f3-9959508167c3",
   "metadata": {
    "collapsed": false,
    "language": "sql",
    "name": "cell15"
   },
   "outputs": [],
   "source": [
    "SELECT * FROM CO2_STREAM;\n"
   ]
  },
  {
   "cell_type": "code",
   "execution_count": null,
   "id": "830e2a1b-ab75-485e-9b0c-535801dc896b",
   "metadata": {
    "collapsed": false,
    "language": "sql",
    "name": "cell16"
   },
   "outputs": [],
   "source": [
    "CREATE OR REPLACE TABLE DOW30_HARMONIZED AS\n",
    "SELECT \n",
    "    YEAR,\n",
    "    MONTH,\n",
    "    DAY,\n",
    "    DECIMAL_DATE,\n",
    "    CO2_EMISSION\n",
    "FROM RAW_DOW30_STAGING;\n"
   ]
  },
  {
   "cell_type": "code",
   "execution_count": null,
   "id": "2bb3a507-56ec-495f-800c-f5675ac98b70",
   "metadata": {
    "collapsed": false,
    "language": "sql",
    "name": "cell17"
   },
   "outputs": [],
   "source": [
    "SELECT * FROM DOW30_HARMONIZED LIMIT 10;\n"
   ]
  },
  {
   "cell_type": "code",
   "execution_count": null,
   "id": "44906fa2-3fda-44ce-a9be-8b9e512946aa",
   "metadata": {
    "collapsed": false,
    "language": "sql",
    "name": "cell18"
   },
   "outputs": [],
   "source": [
    "CREATE OR REPLACE FUNCTION NORMALIZE_CO2_EMISSION(CO2_VALUE FLOAT, REFERENCE_VALUE FLOAT)\n",
    "RETURNS FLOAT\n",
    "AS \n",
    "$$\n",
    "    CO2_VALUE / REFERENCE_VALUE\n",
    "$$;\n"
   ]
  },
  {
   "cell_type": "code",
   "execution_count": null,
   "id": "21e62d0c-4149-46f4-a619-ae14bf169fb5",
   "metadata": {
    "collapsed": false,
    "language": "sql",
    "name": "cell19"
   },
   "outputs": [],
   "source": [
    "SELECT NORMALIZE_CO2_EMISSION(420.15, 410.0) AS NORMALIZED_CO2;\n"
   ]
  },
  {
   "cell_type": "code",
   "execution_count": null,
   "id": "fa9e964a-c5ba-44b1-8649-2f58d9af9185",
   "metadata": {
    "collapsed": false,
    "language": "sql",
    "name": "cell20"
   },
   "outputs": [],
   "source": [
    "CREATE OR REPLACE FUNCTION NORMALIZE_CO2_EMISSION(CO2_VALUE FLOAT, REFERENCE_VALUE FLOAT)\n",
    "RETURNS FLOAT\n",
    "AS \n",
    "$$\n",
    "    CO2_VALUE / REFERENCE_VALUE\n",
    "$$;\n"
   ]
  },
  {
   "cell_type": "code",
   "execution_count": null,
   "id": "1ab42af4-655b-45cd-a240-49fcc2e0eae6",
   "metadata": {
    "collapsed": false,
    "language": "sql",
    "name": "cell21"
   },
   "outputs": [],
   "source": [
    "SELECT * FROM RAW_DOW30_STAGING LIMIT 10;\n"
   ]
  },
  {
   "cell_type": "code",
   "execution_count": null,
   "id": "27aacb5f-3468-49ee-acd0-f9e2687da8f3",
   "metadata": {
    "collapsed": false,
    "language": "sql",
    "name": "cell23"
   },
   "outputs": [],
   "source": [
    "DESC TABLE DOW30_HARMONIZED;\n"
   ]
  },
  {
   "cell_type": "code",
   "execution_count": null,
   "id": "83687f6a-80ab-422c-9adb-e9e9c5f2ae95",
   "metadata": {
    "collapsed": false,
    "language": "sql",
    "name": "cell24"
   },
   "outputs": [],
   "source": [
    "ALTER TABLE DOW30_HARMONIZED ADD COLUMN NORMALIZED_CO2 FLOAT;\n"
   ]
  },
  {
   "cell_type": "code",
   "execution_count": null,
   "id": "25ba1f37-7d60-41be-8d13-7992e70dc148",
   "metadata": {
    "collapsed": false,
    "language": "sql",
    "name": "cell25"
   },
   "outputs": [],
   "source": [
    "INSERT INTO DOW30_HARMONIZED (YEAR, MONTH, DAY, CO2_EMISSION, NORMALIZED_CO2)\n",
    "SELECT \n",
    "    YEAR, \n",
    "    MONTH, \n",
    "    DAY, \n",
    "    CO2_EMISSION,\n",
    "    NORMALIZE_CO2_EMISSION(CO2_EMISSION, 400.0) AS NORMALIZED_CO2  -- Reference value\n",
    "FROM RAW_DOW30_STAGING;\n"
   ]
  },
  {
   "cell_type": "code",
   "execution_count": null,
   "id": "e8efc362-4247-4f36-8a90-fe060792c558",
   "metadata": {
    "collapsed": false,
    "language": "sql",
    "name": "cell22"
   },
   "outputs": [],
   "source": [
    "SELECT * FROM DOW30_HARMONIZED LIMIT 10;\n"
   ]
  },
  {
   "cell_type": "code",
   "execution_count": null,
   "id": "a38bcab7-7bbd-407b-ad3c-117fb61a908c",
   "metadata": {
    "collapsed": false,
    "language": "sql",
    "name": "cell26"
   },
   "outputs": [],
   "source": [
    "SHOW USER FUNCTIONS;\n"
   ]
  },
  {
   "cell_type": "code",
   "execution_count": null,
   "id": "27729796-5c9a-4bab-a7af-f40386600c44",
   "metadata": {
    "collapsed": false,
    "language": "sql",
    "name": "cell27"
   },
   "outputs": [],
   "source": [
    "SELECT NORMALIZE_CO2_EMISSION(333.46, 400);\n"
   ]
  },
  {
   "cell_type": "code",
   "execution_count": null,
   "id": "01512e57-c1f3-4923-8083-e870245bdd76",
   "metadata": {
    "collapsed": false,
    "language": "sql",
    "name": "cell28"
   },
   "outputs": [],
   "source": [
    "UPDATE DOW30_HARMONIZED\n",
    "SET NORMALIZED_CO2 = NORMALIZE_CO2_EMISSION(CO2_EMISSION, 400.0);\n"
   ]
  },
  {
   "cell_type": "code",
   "execution_count": null,
   "id": "5bd97456-657e-4915-a68b-0e16b8769fd9",
   "metadata": {
    "collapsed": false,
    "language": "sql",
    "name": "cell29"
   },
   "outputs": [],
   "source": [
    "SELECT * FROM DOW30_HARMONIZED LIMIT 10;\n"
   ]
  },
  {
   "cell_type": "code",
   "execution_count": null,
   "id": "29b75cb6-b035-41a5-a5c1-1e081bad893b",
   "metadata": {
    "collapsed": false,
    "language": "sql",
    "name": "cell30"
   },
   "outputs": [],
   "source": [
    "CREATE OR REPLACE TABLE ANALYTICS_DOW30 AS\n",
    "SELECT \n",
    "    YEAR, \n",
    "    MONTH, \n",
    "    AVG(CO2_EMISSION) AS AVG_CO2, \n",
    "    MAX(CO2_EMISSION) AS MAX_CO2, \n",
    "    MIN(CO2_EMISSION) AS MIN_CO2\n",
    "FROM DOW30_HARMONIZED\n",
    "GROUP BY YEAR, MONTH;\n"
   ]
  },
  {
   "cell_type": "code",
   "execution_count": null,
   "id": "16ebeef8-6655-425c-b3ed-d1a91b4b111c",
   "metadata": {
    "collapsed": false,
    "language": "sql",
    "name": "cell31"
   },
   "outputs": [],
   "source": [
    "SELECT * FROM ANALYTICS_DOW30 LIMIT 10;\n"
   ]
  },
  {
   "cell_type": "code",
   "execution_count": null,
   "id": "f00d6f71-7700-4b2b-a89b-0facc54fead6",
   "metadata": {
    "language": "sql",
    "name": "cell32"
   },
   "outputs": [],
   "source": [
    "CREATE OR REPLACE PROCEDURE UPDATE_DOW30_SP()\n",
    "RETURNS STRING\n",
    "LANGUAGE SQL\n",
    "AS \n",
    "$$\n",
    "BEGIN\n",
    "    MERGE INTO DOW30_HARMONIZED AS TARGET\n",
    "    USING (SELECT * FROM CO2_STREAM) AS SOURCE\n",
    "    ON TARGET.YEAR = SOURCE.YEAR\n",
    "    WHEN MATCHED THEN \n",
    "        UPDATE SET TARGET.CO2_EMISSION = SOURCE.CO2_EMISSION\n",
    "    WHEN NOT MATCHED THEN \n",
    "        INSERT (YEAR, MONTH, DAY, DECIMAL_DATE, CO2_EMISSION) \n",
    "        VALUES (SOURCE.YEAR, SOURCE.MONTH, SOURCE.DAY, SOURCE.DECIMAL_DATE, SOURCE.CO2_EMISSION);\n",
    "    \n",
    "    RETURN 'Update Successful!';\n",
    "END;\n",
    "$$;\n"
   ]
  },
  {
   "cell_type": "code",
   "execution_count": null,
   "id": "461d668c-b807-4d34-83f1-35cb94d23853",
   "metadata": {
    "collapsed": false,
    "language": "sql",
    "name": "cell33"
   },
   "outputs": [],
   "source": [
    "//stored procedure ...edit here\n",
    "CREATE OR REPLACE PROCEDURE UPDATE_DOW30_SP()\n",
    "RETURNS STRING\n",
    "LANGUAGE SQL\n",
    "AS \n",
    "$$\n",
    "BEGIN\n",
    "    MERGE INTO DOW30_HARMONIZED AS TARGET\n",
    "    USING (SELECT * FROM CO2_STREAM) AS SOURCE\n",
    "    ON TARGET.YEAR = SOURCE.YEAR\n",
    "    WHEN MATCHED THEN \n",
    "        UPDATE SET TARGET.CO2_EMISSION = SOURCE.CO2_EMISSION\n",
    "    WHEN NOT MATCHED THEN \n",
    "        INSERT (YEAR, MONTH, DAY, DECIMAL_DATE, CO2_EMISSION) \n",
    "        VALUES (SOURCE.YEAR, SOURCE.MONTH, SOURCE.DAY, SOURCE.DECIMAL_DATE, SOURCE.CO2_EMISSION);\n",
    "    \n",
    "    RETURN 'Update Successful!';\n",
    "END;\n",
    "$$;\n"
   ]
  },
  {
   "cell_type": "code",
   "execution_count": null,
   "id": "6de1dcda-5411-4b7a-bb03-b9ff38765e4f",
   "metadata": {
    "collapsed": false,
    "language": "sql",
    "name": "cell34"
   },
   "outputs": [],
   "source": [
    "CALL UPDATE_DOW30_SP();\n"
   ]
  },
  {
   "cell_type": "code",
   "execution_count": null,
   "id": "26547809-2745-4570-9e9d-b2ede6886f6d",
   "metadata": {
    "collapsed": false,
    "language": "sql",
    "name": "cell35"
   },
   "outputs": [],
   "source": [
    "CREATE OR REPLACE TASK UPDATE_DOW30_METRICS_TASK\n",
    "SCHEDULE = 'USING CRON 0 12 * * * UTC'\n",
    "AS \n",
    "CALL UPDATE_DOW30_SP();\n"
   ]
  },
  {
   "cell_type": "code",
   "execution_count": null,
   "id": "8a101dfa-8279-4c4d-8354-c83b89f20719",
   "metadata": {
    "collapsed": false,
    "language": "sql",
    "name": "cell36"
   },
   "outputs": [],
   "source": [
    "ALTER TASK UPDATE_DOW30_METRICS_TASK RESUME;\n"
   ]
  },
  {
   "cell_type": "code",
   "execution_count": null,
   "id": "fd073d30-06da-49b4-9793-e686d415c63c",
   "metadata": {
    "collapsed": false,
    "language": "sql",
    "name": "cell37"
   },
   "outputs": [],
   "source": [
    "SELECT COUNT(*) FROM DOW30_HARMONIZED;\n"
   ]
  },
  {
   "cell_type": "code",
   "execution_count": null,
   "id": "2b232edf-4e66-40fa-ad0c-718c6167ec2b",
   "metadata": {
    "language": "sql",
    "name": "cell38"
   },
   "outputs": [],
   "source": [
    " SELECT COUNT(*) FROM CO2_DB.RAW_DATA.RAW_DOW30_STAGING;\n"
   ]
  },
  {
   "cell_type": "code",
   "execution_count": null,
   "id": "a4f435fa-c5d1-4997-9044-6ed8ce860523",
   "metadata": {
    "language": "sql",
    "name": "cell39"
   },
   "outputs": [],
   "source": [
    "SELECT COUNT(*) FROM CO2_DB.RAW_DATA.DOW30_HARMONIZED;\n"
   ]
  },
  {
   "cell_type": "code",
   "execution_count": null,
   "id": "079c7cf3-578a-4f74-a896-c3a12c5d87f9",
   "metadata": {
    "language": "sql",
    "name": "cell40"
   },
   "outputs": [],
   "source": [
    "SELECT * FROM CO2_DB.RAW_DATA.DOW30_HARMONIZED LIMIT 10;\n"
   ]
  },
  {
   "cell_type": "code",
   "execution_count": null,
   "id": "77525188-d6b7-4fa1-9b71-4176c866f6c0",
   "metadata": {
    "language": "sql",
    "name": "cell41"
   },
   "outputs": [],
   "source": [
    "-- Verify if data is in the staging table\n",
    "SELECT COUNT(*) FROM CO2_DB.RAW_DATA.RAW_DOW30_STAGING;\n",
    "\n",
    "-- Verify if data is harmonized\n",
    "SELECT COUNT(*) FROM CO2_DB.RAW_DATA.DOW30_HARMONIZED;\n",
    "\n",
    "-- Verify analytics processing\n",
    "SELECT * FROM CO2_DB.RAW_DATA.DOW30_HARMONIZED LIMIT 10;\n",
    "\n",
    "-- Monitor Snowflake logs\n",
    "SELECT * FROM TABLE(INFORMATION_SCHEMA.TASK_HISTORY()) ORDER BY COMPLETED_TIME DESC LIMIT 10;\n"
   ]
  },
  {
   "cell_type": "code",
   "execution_count": null,
   "id": "8c2d5c07-32c3-4765-ad38-ac053cb8fef6",
   "metadata": {
    "language": "sql",
    "name": "cell42"
   },
   "outputs": [],
   "source": [
    "SELECT COUNT(*) FROM CO2_DB.RAW_DATA.RAW_DOW30_STAGING;\n",
    "SELECT COUNT(*) FROM CO2_DB.RAW_DATA.DOW30_HARMONIZED;\n"
   ]
  },
  {
   "cell_type": "code",
   "execution_count": null,
   "id": "cb149299-6079-4988-84a8-92277eacfd9c",
   "metadata": {
    "language": "sql",
    "name": "cell43"
   },
   "outputs": [],
   "source": [
    "SELECT * FROM CO2_DB.RAW_DATA.DOW30_HARMONIZED LIMIT 10;\n"
   ]
  },
  {
   "cell_type": "code",
   "execution_count": null,
   "id": "84a7278a-381e-4b4e-bff4-46e985ae7e91",
   "metadata": {
    "language": "sql",
    "name": "cell45"
   },
   "outputs": [],
   "source": [
    "CREATE SCHEMA CO2_DB.ANALYTICS_DOW30;\n"
   ]
  },
  {
   "cell_type": "code",
   "execution_count": null,
   "id": "6ad8eda9-3b29-4e2e-8fd6-3731a03f3a02",
   "metadata": {
    "language": "sql",
    "name": "cell46"
   },
   "outputs": [],
   "source": [
    "GRANT USAGE, CREATE FUNCTION, CREATE TABLE, CREATE VIEW ON SCHEMA CO2_DB.ANALYTICS_DOW30 TO ROLE ACCOUNTADMIN;\n"
   ]
  },
  {
   "cell_type": "code",
   "execution_count": null,
   "id": "5f470fc1-0586-43fa-b12e-201d51e9dc82",
   "metadata": {
    "language": "sql",
    "name": "cell47"
   },
   "outputs": [],
   "source": [
    "SHOW SCHEMAS IN DATABASE CO2_DB;\n"
   ]
  },
  {
   "cell_type": "code",
   "execution_count": null,
   "id": "5a171ded-4968-4244-8649-a97bc9941625",
   "metadata": {
    "language": "sql",
    "name": "cell48"
   },
   "outputs": [],
   "source": [
    "CREATE OR REPLACE FUNCTION CO2_DB.ANALYTICS_DOW30.CALCULATE_PERCENT_CHANGE(\n",
    "    current_value FLOAT, previous_value FLOAT\n",
    ") RETURNS FLOAT \n",
    "LANGUAGE PYTHON\n",
    "RUNTIME_VERSION = '3.8'\n",
    "HANDLER = 'calculate_change'\n",
    "AS $$\n",
    "def calculate_change(current_value, previous_value):\n",
    "    if previous_value == 0 or previous_value is None:\n",
    "        return None\n",
    "    return ((current_value - previous_value) / previous_value) * 100\n",
    "$$;\n"
   ]
  },
  {
   "cell_type": "code",
   "execution_count": null,
   "id": "f4d3b2e2-9c32-4d28-a0f5-177e312a859c",
   "metadata": {
    "language": "sql",
    "name": "cell44"
   },
   "outputs": [],
   "source": [
    "SELECT \n",
    "    YEAR, MONTH, CO2_EMISSION,\n",
    "    CO2_DB.ANALYTICS_DOW30.CALCULATE_PERCENT_CHANGE(CO2_EMISSION, LAG(CO2_EMISSION) OVER (ORDER BY YEAR, MONTH)) \n",
    "    AS DAILY_PERCENT_CHANGE\n",
    "FROM CO2_DB.RAW_DATA.DOW30_HARMONIZED\n",
    "LIMIT 10;\n"
   ]
  },
  {
   "cell_type": "code",
   "execution_count": null,
   "id": "9650992e-7874-4710-badb-9e906f5e3634",
   "metadata": {
    "language": "sql",
    "name": "cell49"
   },
   "outputs": [],
   "source": [
    "CREATE OR REPLACE TABLE CO2_DB.ANALYTICS_DOW30.CO2_DAILY_PERCENT_CHANGE AS\n",
    "SELECT \n",
    "    YEAR, \n",
    "    MONTH, \n",
    "    CO2_EMISSION,\n",
    "    CO2_DB.ANALYTICS_DOW30.CALCULATE_PERCENT_CHANGE(CO2_EMISSION, LAG(CO2_EMISSION) OVER (ORDER BY YEAR, MONTH)) \n",
    "    AS DAILY_PERCENT_CHANGE\n",
    "FROM CO2_DB.RAW_DATA.DOW30_HARMONIZED;\n"
   ]
  },
  {
   "cell_type": "code",
   "execution_count": null,
   "id": "253112c6-f96d-43f5-a3ef-602c027b487b",
   "metadata": {
    "language": "sql",
    "name": "cell50"
   },
   "outputs": [],
   "source": [
    "SELECT * FROM CO2_DB.ANALYTICS_DOW30.CO2_DAILY_PERCENT_CHANGE LIMIT 10;\n"
   ]
  },
  {
   "cell_type": "code",
   "execution_count": null,
   "id": "bbdd6e73-6edb-4200-98fd-f2586c8125e7",
   "metadata": {
    "language": "sql",
    "name": "cell51"
   },
   "outputs": [],
   "source": [
    "SHOW USER FUNCTIONS IN SCHEMA CO2_DB.ANALYTICS_DOW30;\n"
   ]
  },
  {
   "cell_type": "code",
   "execution_count": null,
   "id": "1601cd0a-afd4-4e42-9e80-6ed3e0f5d053",
   "metadata": {
    "language": "sql",
    "name": "cell52"
   },
   "outputs": [],
   "source": [
    "CREATE OR REPLACE FUNCTION CO2_DB.ANALYTICS_DOW30.CALCULATE_WEEKLY_PERCENT_CHANGE(\n",
    "    current_value FLOAT, week_ago_value FLOAT\n",
    ") RETURNS FLOAT \n",
    "LANGUAGE PYTHON\n",
    "RUNTIME_VERSION = '3.8'\n",
    "HANDLER = 'calculate_change'\n",
    "AS $$\n",
    "def calculate_change(current_value, week_ago_value):\n",
    "    if week_ago_value == 0 or week_ago_value is None:\n",
    "        return None\n",
    "    return ((current_value - week_ago_value) / week_ago_value) * 100\n",
    "$$;\n"
   ]
  },
  {
   "cell_type": "code",
   "execution_count": null,
   "id": "a3e0f3be-44be-423b-8660-8deac2719185",
   "metadata": {
    "language": "sql",
    "name": "cell53"
   },
   "outputs": [],
   "source": [
    "SELECT * FROM INFORMATION_SCHEMA.FUNCTIONS \n",
    "WHERE FUNCTION_NAME = 'CALCULATE_WEEKLY_PERCENT_CHANGE' \n",
    "AND FUNCTION_SCHEMA = 'ANALYTICS_DOW30';\n"
   ]
  },
  {
   "cell_type": "code",
   "execution_count": null,
   "id": "327cad6b-8c8b-43b5-a192-f1ad234438ab",
   "metadata": {
    "language": "sql",
    "name": "cell54"
   },
   "outputs": [],
   "source": [
    "CREATE OR REPLACE TABLE CO2_DB.ANALYTICS_DOW30.CO2_WEEKLY_PERCENT_CHANGE AS\n",
    "SELECT \n",
    "    YEAR, \n",
    "    MONTH, \n",
    "    CO2_EMISSION,\n",
    "    CO2_DB.ANALYTICS_DOW30.CALCULATE_WEEKLY_PERCENT_CHANGE(\n",
    "        CO2_EMISSION, \n",
    "        LAG(CO2_EMISSION, 7) OVER (ORDER BY YEAR, MONTH, DAY)\n",
    "    ) AS WEEKLY_PERCENT_CHANGE\n",
    "FROM CO2_DB.RAW_DATA.DOW30_HARMONIZED;\n"
   ]
  },
  {
   "cell_type": "code",
   "execution_count": null,
   "id": "1dcd4e98-686c-4a66-9d92-e9f738203d1b",
   "metadata": {
    "language": "sql",
    "name": "cell55"
   },
   "outputs": [],
   "source": [
    "SELECT * FROM CO2_DB.ANALYTICS_DOW30.CO2_WEEKLY_PERCENT_CHANGE LIMIT 10;\n"
   ]
  },
  {
   "cell_type": "code",
   "execution_count": null,
   "id": "3ab9484c-c659-43d0-bb76-91505985415c",
   "metadata": {
    "language": "sql",
    "name": "cell56"
   },
   "outputs": [],
   "source": [
    "SELECT * \n",
    "FROM CO2_DB.ANALYTICS_DOW30.CO2_WEEKLY_PERCENT_CHANGE\n",
    "WHERE WEEKLY_PERCENT_CHANGE IS NULL\n",
    "LIMIT 10;\n"
   ]
  },
  {
   "cell_type": "code",
   "execution_count": null,
   "id": "6eac2c1e-eeac-469e-b151-cd924ea20687",
   "metadata": {
    "language": "sql",
    "name": "cell57"
   },
   "outputs": [],
   "source": [
    "CREATE OR REPLACE TASK UPDATE_CO2_METRICS_TASK\n",
    "WAREHOUSE = COMPUTE_WH\n",
    "SCHEDULE = 'USING CRON 0 5 * * * UTC'  -- Runs daily at 5 AM UTC\n",
    "AS \n",
    "CALL UPDATE_DOW30_SP();\n"
   ]
  },
  {
   "cell_type": "code",
   "execution_count": null,
   "id": "0a7ef702-af54-4b6c-aa52-edd6f50aa5db",
   "metadata": {
    "language": "sql",
    "name": "cell58"
   },
   "outputs": [],
   "source": [
    "ALTER TASK UPDATE_CO2_METRICS_TASK RESUME;\n"
   ]
  },
  {
   "cell_type": "code",
   "execution_count": null,
   "id": "587a4165-cae8-4809-b1d0-a1a573cf76ab",
   "metadata": {
    "language": "sql",
    "name": "cell59"
   },
   "outputs": [],
   "source": [
    "SELECT * FROM TABLE(INFORMATION_SCHEMA.TASK_HISTORY())\n",
    "ORDER BY COMPLETED_TIME DESC LIMIT 10;\n"
   ]
  },
  {
   "cell_type": "code",
   "execution_count": null,
   "id": "b0a6142e-fe6b-45c5-9ebb-ff00710e253f",
   "metadata": {
    "language": "sql",
    "name": "cell60"
   },
   "outputs": [],
   "source": [
    "SHOW PROCEDURES IN SCHEMA CO2_DB.RAW_DATA;\n"
   ]
  },
  {
   "cell_type": "code",
   "execution_count": null,
   "id": "520f822a-441f-43b0-8d69-cc861c4c3bc7",
   "metadata": {
    "language": "sql",
    "name": "cell61"
   },
   "outputs": [],
   "source": [
    "CREATE OR REPLACE PROCEDURE CO2_DB.RAW_DATA.UPDATE_CO2_PROCEDURE()\n",
    "RETURNS STRING\n",
    "LANGUAGE SQL\n",
    "AS \n",
    "$$\n",
    "BEGIN\n",
    "    MERGE INTO CO2_DB.RAW_DATA.DOW30_HARMONIZED AS TARGET\n",
    "    USING (SELECT * FROM CO2_DB.RAW_DATA.RAW_DOW30_STAGING) AS SOURCE\n",
    "    ON TARGET.YEAR = SOURCE.YEAR AND TARGET.MONTH = SOURCE.MONTH\n",
    "    WHEN MATCHED THEN \n",
    "        UPDATE SET TARGET.CO2_EMISSION = SOURCE.CO2_EMISSION\n",
    "    WHEN NOT MATCHED THEN \n",
    "        INSERT (YEAR, MONTH, DAY, DECIMAL_DATE, CO2_EMISSION) \n",
    "        VALUES (SOURCE.YEAR, SOURCE.MONTH, SOURCE.DAY, SOURCE.DECIMAL_DATE, SOURCE.CO2_EMISSION);\n",
    "    \n",
    "    RETURN 'Update Successful!';\n",
    "END;\n",
    "$$;\n"
   ]
  },
  {
   "cell_type": "code",
   "execution_count": null,
   "id": "69a30aed-eb2e-4c49-81f7-9f346089310f",
   "metadata": {
    "language": "sql",
    "name": "cell62"
   },
   "outputs": [],
   "source": [
    "SHOW PROCEDURES IN SCHEMA CO2_DB.RAW_DATA;\n"
   ]
  },
  {
   "cell_type": "code",
   "execution_count": null,
   "id": "325f989e-21f5-4c57-b896-e72d40a7dc56",
   "metadata": {
    "language": "sql",
    "name": "cell63"
   },
   "outputs": [],
   "source": [
    "SELECT * FROM CO2_DB.ANALYTICS_DOW30.CO2_WEEKLY_PERCENT_CHANGE LIMIT 10;\n"
   ]
  },
  {
   "cell_type": "code",
   "execution_count": null,
   "id": "00863600-b32d-4145-bf7f-5f50d21dfc3f",
   "metadata": {
    "language": "sql",
    "name": "cell64"
   },
   "outputs": [],
   "source": [
    "SELECT * FROM TABLE(INFORMATION_SCHEMA.TASK_HISTORY()) \n",
    "ORDER BY COMPLETED_TIME DESC \n",
    "LIMIT 10;\n"
   ]
  },
  {
   "cell_type": "code",
   "execution_count": null,
   "id": "65e1c1be-1380-4e35-a683-2b34af600f55",
   "metadata": {
    "language": "sql",
    "name": "cell65"
   },
   "outputs": [],
   "source": [
    "CREATE OR REPLACE PROCEDURE UPDATE_CO2_PROCEDURE()\n",
    "RETURNS STRING\n",
    "LANGUAGE SQL\n",
    "AS \n",
    "$$\n",
    "BEGIN\n",
    "    MERGE INTO CO2_DB.RAW_DATA.DOW30_HARMONIZED AS TARGET\n",
    "    USING (SELECT * FROM CO2_DB.RAW_DATA.RAW_DOW30_STAGING) AS SOURCE\n",
    "    ON TARGET.YEAR = SOURCE.YEAR AND TARGET.MONTH = SOURCE.MONTH AND TARGET.DAY = SOURCE.DAY\n",
    "    WHEN MATCHED THEN \n",
    "        UPDATE SET TARGET.CO2_EMISSION = SOURCE.CO2_EMISSION\n",
    "    WHEN NOT MATCHED THEN \n",
    "        INSERT (YEAR, MONTH, DAY, DECIMAL_DATE, CO2_EMISSION) \n",
    "        VALUES (SOURCE.YEAR, SOURCE.MONTH, SOURCE.DAY, SOURCE.DECIMAL_DATE, SOURCE.CO2_EMISSION);\n",
    "    \n",
    "    RETURN 'Update Successful!';\n",
    "END;\n",
    "$$;\n"
   ]
  },
  {
   "cell_type": "code",
   "execution_count": null,
   "id": "7ce2dd91-e663-4c95-848a-f68cde0637cf",
   "metadata": {
    "language": "sql",
    "name": "cell66"
   },
   "outputs": [],
   "source": [
    "DROP TASK IF EXISTS UPDATE_CO2_DATA;\n"
   ]
  },
  {
   "cell_type": "code",
   "execution_count": null,
   "id": "6ba1e33f-4b7d-4159-b77b-3cafe5b7b68d",
   "metadata": {
    "language": "sql",
    "name": "cell67"
   },
   "outputs": [],
   "source": [
    "CREATE OR REPLACE TASK UPDATE_CO2_DATA\n",
    "SCHEDULE = 'USING CRON 0 8 * * * UTC'\n",
    "AS \n",
    "CALL UPDATE_CO2_PROCEDURE();\n"
   ]
  },
  {
   "cell_type": "code",
   "execution_count": null,
   "id": "3f7ecae0-51d5-450e-a552-4adaa232e902",
   "metadata": {
    "language": "sql",
    "name": "cell68"
   },
   "outputs": [],
   "source": [
    "ALTER TASK UPDATE_CO2_DATA RESUME;\n",
    "EXECUTE TASK UPDATE_CO2_DATA;\n"
   ]
  },
  {
   "cell_type": "code",
   "execution_count": null,
   "id": "f4b29da5-a2bf-4828-b286-bebd006b7fb7",
   "metadata": {
    "language": "sql",
    "name": "cell69"
   },
   "outputs": [],
   "source": [
    "SELECT COUNT(*) FROM CO2_DB.RAW_DATA.DOW30_HARMONIZED;\n"
   ]
  },
  {
   "cell_type": "code",
   "execution_count": null,
   "id": "9055ab54-ab1a-4906-ac48-e7ea4772ebcd",
   "metadata": {
    "language": "sql",
    "name": "cell70"
   },
   "outputs": [],
   "source": [
    "SELECT * FROM TABLE(INFORMATION_SCHEMA.TASK_HISTORY()) \n",
    "ORDER BY COMPLETED_TIME DESC \n",
    "LIMIT 10;\n"
   ]
  },
  {
   "cell_type": "code",
   "execution_count": null,
   "id": "fe073c41-1cf5-4b2f-ad8b-7a3d1b36bf51",
   "metadata": {
    "language": "sql",
    "name": "cell71"
   },
   "outputs": [],
   "source": [
    "SELECT COUNT(*) FROM CO2_DB.RAW_DATA.DOW30_HARMONIZED;\n"
   ]
  },
  {
   "cell_type": "code",
   "execution_count": null,
   "id": "be6708a6-0950-478d-990f-11fbd690d1cd",
   "metadata": {
    "language": "sql",
    "name": "cell72"
   },
   "outputs": [],
   "source": [
    "SELECT * FROM CO2_DB.RAW_DATA.DOW30_HARMONIZED LIMIT 10;\n"
   ]
  },
  {
   "cell_type": "code",
   "execution_count": null,
   "id": "7b62a33c-a436-49ba-851d-0d7a068da497",
   "metadata": {
    "language": "sql",
    "name": "cell73"
   },
   "outputs": [],
   "source": [
    "SELECT \n",
    "    YEAR, \n",
    "    MONTH, \n",
    "    DAY, \n",
    "    CO2_EMISSION, \n",
    "    CO2_DB.ANALYTICS_DOW30.CALCULATE_PERCENT_CHANGE(\n",
    "        CO2_EMISSION, \n",
    "        LAG(CO2_EMISSION) OVER (ORDER BY YEAR, MONTH, DAY)\n",
    "    ) AS DAILY_PERCENT_CHANGE\n",
    "FROM CO2_DB.RAW_DATA.DOW30_HARMONIZED\n",
    "LIMIT 10;\n"
   ]
  },
  {
   "cell_type": "code",
   "execution_count": null,
   "id": "68bd28bb-2f69-44b7-82d1-b77f271398f8",
   "metadata": {
    "language": "sql",
    "name": "cell74"
   },
   "outputs": [],
   "source": [
    "SELECT \n",
    "    YEAR, \n",
    "    MONTH, \n",
    "    CO2_EMISSION,\n",
    "    CO2_DB.ANALYTICS_DOW30.CALCULATE_WEEKLY_PERCENT_CHANGE(\n",
    "        CO2_EMISSION, \n",
    "        LAG(CO2_EMISSION, 7) OVER (ORDER BY YEAR, MONTH)\n",
    "    ) AS WEEKLY_PERCENT_CHANGE\n",
    "FROM CO2_DB.RAW_DATA.DOW30_HARMONIZED\n",
    "LIMIT 10;\n"
   ]
  },
  {
   "cell_type": "code",
   "execution_count": null,
   "id": "5bad024f-7e30-4ca5-ab69-c7c2bbf9ce7c",
   "metadata": {
    "language": "sql",
    "name": "cell75"
   },
   "outputs": [],
   "source": [
    "SELECT * FROM TABLE(INFORMATION_SCHEMA.TASK_HISTORY()) \n",
    "ORDER BY COMPLETED_TIME DESC \n",
    "LIMIT 10;\n"
   ]
  },
  {
   "cell_type": "code",
   "execution_count": null,
   "id": "aead23ca-fbc2-474d-b165-b787c1097730",
   "metadata": {
    "language": "sql",
    "name": "cell76"
   },
   "outputs": [],
   "source": [
    "CREATE OR REPLACE PROCEDURE UPDATE_CO2_PROCEDURE()\n",
    "RETURNS STRING\n",
    "LANGUAGE SQL\n",
    "AS \n",
    "$$\n",
    "BEGIN\n",
    "    MERGE INTO CO2_DB.RAW_DATA.DOW30_HARMONIZED AS TARGET\n",
    "    USING (\n",
    "        SELECT * FROM CO2_DB.RAW_DATA.RAW_DOW30_STAGING\n",
    "    ) AS SOURCE\n",
    "    ON TARGET.YEAR = SOURCE.YEAR \n",
    "       AND TARGET.MONTH = SOURCE.MONTH\n",
    "       AND TARGET.DAY = SOURCE.DAY\n",
    "    WHEN MATCHED THEN \n",
    "        UPDATE SET \n",
    "            TARGET.CO2_EMISSION = SOURCE.CO2_EMISSION\n",
    "    WHEN NOT MATCHED THEN \n",
    "        INSERT (YEAR, MONTH, DAY, DECIMAL_DATE, CO2_EMISSION) \n",
    "        VALUES (SOURCE.YEAR, SOURCE.MONTH, SOURCE.DAY, SOURCE.DECIMAL_DATE, SOURCE.CO2_EMISSION);\n",
    "    \n",
    "    RETURN 'CO2 Data Update Successful!';\n",
    "END;\n",
    "$$;\n"
   ]
  },
  {
   "cell_type": "code",
   "execution_count": null,
   "id": "76cc8e6f-23fe-4f10-8807-7ed03ccec99a",
   "metadata": {
    "language": "sql",
    "name": "cell77"
   },
   "outputs": [],
   "source": [
    "ALTER TASK UPDATE_CO2_DATA RESUME;\n"
   ]
  },
  {
   "cell_type": "code",
   "execution_count": null,
   "id": "90830609-502c-428e-9c56-b169415699c6",
   "metadata": {
    "language": "sql",
    "name": "cell78"
   },
   "outputs": [],
   "source": [
    "EXECUTE TASK UPDATE_CO2_DATA;\n"
   ]
  },
  {
   "cell_type": "code",
   "execution_count": null,
   "id": "6e57c0c2-1dde-4a4c-89a9-fe07146a2d3d",
   "metadata": {
    "language": "sql",
    "name": "cell79"
   },
   "outputs": [],
   "source": [
    "--SELECT * FROM CO2_DB.RAW_DATA.DOW30_HARMONIZED ORDER BY YEAR DESC LIMIT 10;\n"
   ]
  }
 ],
 "metadata": {
  "kernelspec": {
   "display_name": "Streamlit Notebook",
   "name": "streamlit"
  },
  "lastEditStatus": {
   "authorEmail": "thakkar.his@northeastern.edu",
   "authorId": "6761595136547",
   "authorName": "HISHITA",
   "lastEditTime": 1741561777520,
   "notebookId": "2umpvdlrp2np7ts7lzuh",
   "sessionId": "56c1db59-d169-4253-8a2b-8ac16b19b972"
  }
 },
 "nbformat": 4,
 "nbformat_minor": 5
}
